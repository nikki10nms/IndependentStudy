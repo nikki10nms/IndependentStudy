{
  "nbformat": 4,
  "nbformat_minor": 0,
  "metadata": {
    "colab": {
      "name": "Diabetes Logistic regression.ipynb",
      "provenance": [],
      "collapsed_sections": []
    },
    "kernelspec": {
      "name": "python3",
      "display_name": "Python 3"
    }
  },
  "cells": [
    {
      "cell_type": "code",
      "metadata": {
        "id": "-57EAxvcQ_la",
        "colab_type": "code",
        "outputId": "95805403-9229-4479-cc88-aeabde1c146a",
        "colab": {
          "base_uri": "https://localhost:8080/",
          "height": 85
        }
      },
      "source": [
        "import pandas as pd\n",
        "!gdown https://drive.google.com/uc?id=1l8oLRneIBNJtQa-wMa1FocajjdRGLmyj\n",
        "col_names = ['pregnant', 'glucose', 'bp', 'skin', 'insulin', 'bmi', 'pedigree', 'age', 'label']  \n",
        "# load the tweets:\n",
        "pima = pd.read_csv(\"diabetes.csv\", header=None,names=col_names)\n"
      ],
      "execution_count": 0,
      "outputs": [
        {
          "output_type": "stream",
          "text": [
            "Downloading...\n",
            "From: https://drive.google.com/uc?id=1l8oLRneIBNJtQa-wMa1FocajjdRGLmyj\n",
            "To: /content/diabetes.csv\n",
            "\r  0% 0.00/23.9k [00:00<?, ?B/s]\r100% 23.9k/23.9k [00:00<00:00, 15.6MB/s]\n"
          ],
          "name": "stdout"
        }
      ]
    },
    {
      "cell_type": "code",
      "metadata": {
        "id": "0OzYX3rgxplR",
        "colab_type": "code",
        "colab": {}
      },
      "source": [
        "pima=pima.drop(0, axis=0)"
      ],
      "execution_count": 0,
      "outputs": []
    },
    {
      "cell_type": "code",
      "metadata": {
        "id": "5ltoPrrWgnQI",
        "colab_type": "code",
        "outputId": "e0b7176a-c11a-4422-defd-e68907379a7b",
        "colab": {
          "base_uri": "https://localhost:8080/",
          "height": 204
        }
      },
      "source": [
        "pima.head()"
      ],
      "execution_count": 0,
      "outputs": [
        {
          "output_type": "execute_result",
          "data": {
            "text/html": [
              "<div>\n",
              "<style scoped>\n",
              "    .dataframe tbody tr th:only-of-type {\n",
              "        vertical-align: middle;\n",
              "    }\n",
              "\n",
              "    .dataframe tbody tr th {\n",
              "        vertical-align: top;\n",
              "    }\n",
              "\n",
              "    .dataframe thead th {\n",
              "        text-align: right;\n",
              "    }\n",
              "</style>\n",
              "<table border=\"1\" class=\"dataframe\">\n",
              "  <thead>\n",
              "    <tr style=\"text-align: right;\">\n",
              "      <th></th>\n",
              "      <th>pregnant</th>\n",
              "      <th>glucose</th>\n",
              "      <th>bp</th>\n",
              "      <th>skin</th>\n",
              "      <th>insulin</th>\n",
              "      <th>bmi</th>\n",
              "      <th>pedigree</th>\n",
              "      <th>age</th>\n",
              "      <th>label</th>\n",
              "    </tr>\n",
              "  </thead>\n",
              "  <tbody>\n",
              "    <tr>\n",
              "      <th>1</th>\n",
              "      <td>6</td>\n",
              "      <td>148</td>\n",
              "      <td>72</td>\n",
              "      <td>35</td>\n",
              "      <td>0</td>\n",
              "      <td>33.6</td>\n",
              "      <td>0.627</td>\n",
              "      <td>50</td>\n",
              "      <td>1</td>\n",
              "    </tr>\n",
              "    <tr>\n",
              "      <th>2</th>\n",
              "      <td>1</td>\n",
              "      <td>85</td>\n",
              "      <td>66</td>\n",
              "      <td>29</td>\n",
              "      <td>0</td>\n",
              "      <td>26.6</td>\n",
              "      <td>0.351</td>\n",
              "      <td>31</td>\n",
              "      <td>0</td>\n",
              "    </tr>\n",
              "    <tr>\n",
              "      <th>3</th>\n",
              "      <td>8</td>\n",
              "      <td>183</td>\n",
              "      <td>64</td>\n",
              "      <td>0</td>\n",
              "      <td>0</td>\n",
              "      <td>23.3</td>\n",
              "      <td>0.672</td>\n",
              "      <td>32</td>\n",
              "      <td>1</td>\n",
              "    </tr>\n",
              "    <tr>\n",
              "      <th>4</th>\n",
              "      <td>1</td>\n",
              "      <td>89</td>\n",
              "      <td>66</td>\n",
              "      <td>23</td>\n",
              "      <td>94</td>\n",
              "      <td>28.1</td>\n",
              "      <td>0.167</td>\n",
              "      <td>21</td>\n",
              "      <td>0</td>\n",
              "    </tr>\n",
              "    <tr>\n",
              "      <th>5</th>\n",
              "      <td>0</td>\n",
              "      <td>137</td>\n",
              "      <td>40</td>\n",
              "      <td>35</td>\n",
              "      <td>168</td>\n",
              "      <td>43.1</td>\n",
              "      <td>2.288</td>\n",
              "      <td>33</td>\n",
              "      <td>1</td>\n",
              "    </tr>\n",
              "  </tbody>\n",
              "</table>\n",
              "</div>"
            ],
            "text/plain": [
              "  pregnant glucose  bp skin insulin   bmi pedigree age label\n",
              "1        6     148  72   35       0  33.6    0.627  50     1\n",
              "2        1      85  66   29       0  26.6    0.351  31     0\n",
              "3        8     183  64    0       0  23.3    0.672  32     1\n",
              "4        1      89  66   23      94  28.1    0.167  21     0\n",
              "5        0     137  40   35     168  43.1    2.288  33     1"
            ]
          },
          "metadata": {
            "tags": []
          },
          "execution_count": 27
        }
      ]
    },
    {
      "cell_type": "markdown",
      "metadata": {
        "id": "BV3-FO2vupcH",
        "colab_type": "text"
      },
      "source": [
        "**Selecting Feature**\n",
        "*Here, we need to divide the given columns into two types of variables dependent(or target variable) and independent variable(or feature variables).*"
      ]
    },
    {
      "cell_type": "code",
      "metadata": {
        "id": "VPG74gifvTl6",
        "colab_type": "code",
        "colab": {}
      },
      "source": [
        "#split dataset in features and target variable\n",
        "feature_cols = ['pregnant', 'insulin', 'bmi', 'age','glucose','bp','pedigree']\n",
        "X = pima[feature_cols] # Features\n",
        "y = pima.label # Target variable"
      ],
      "execution_count": 0,
      "outputs": []
    },
    {
      "cell_type": "markdown",
      "metadata": {
        "id": "SBseCPDQve34",
        "colab_type": "text"
      },
      "source": [
        "**Splitting Data**\n",
        "*To understand model performance, dividing the dataset into a training set and a test set is a good strategy.*\n",
        "\n",
        "*Let's split dataset by using function train_test_split(). \n",
        "We need to pass 3 parameters features, target, and test_set size. \n",
        "\n",
        "Additionally, we can use random_state to select records randomly.*  "
      ]
    },
    {
      "cell_type": "code",
      "metadata": {
        "id": "hPYnfzhXvfKf",
        "colab_type": "code",
        "colab": {}
      },
      "source": [
        "# split X and y into training and testing sets\n",
        "\n",
        "from sklearn.model_selection import train_test_split \n"
      ],
      "execution_count": 0,
      "outputs": []
    },
    {
      "cell_type": "code",
      "metadata": {
        "id": "immjuIzHwchK",
        "colab_type": "code",
        "colab": {}
      },
      "source": [
        "X_train,X_test,y_train,y_test=train_test_split(X,y,test_size=0.25,random_state=0)\n",
        "\n",
        "#'random_state' is used as a seed value to maintain reproducibility,\n",
        "#which means every time when you split the data will not affect the results. \n",
        "#Also, if random_state is None, then random number generator uses np.random for selecting records randomly. \n",
        "#It means If you don't set a seed, it is different each time."
      ],
      "execution_count": 0,
      "outputs": []
    },
    {
      "cell_type": "markdown",
      "metadata": {
        "id": "4m9b7RUZwMlz",
        "colab_type": "text"
      },
      "source": [
        "Here, the Dataset is broken into two parts in a ratio of 75:25. It means 75% data will be used for model training and 25% for model testing.\n",
        "\n"
      ]
    },
    {
      "cell_type": "markdown",
      "metadata": {
        "id": "kZy-fc-qwROR",
        "colab_type": "text"
      },
      "source": [
        "**Model Development and Prediction**\n",
        "*First, import the Logistic Regression module and create a Logistic Regression classifier object using LogisticRegression() function.*\n",
        "\n",
        "*Then, fit your model on the train set using fit() and perform prediction on the test set using predict().* "
      ]
    },
    {
      "cell_type": "code",
      "metadata": {
        "id": "3CsbjjhgwsYk",
        "colab_type": "code",
        "colab": {}
      },
      "source": [
        "# import the class\n",
        "from sklearn.linear_model import LogisticRegression\n",
        "\n"
      ],
      "execution_count": 0,
      "outputs": []
    },
    {
      "cell_type": "code",
      "metadata": {
        "id": "lYVgr1ZIxIJH",
        "colab_type": "code",
        "outputId": "72861fda-0040-4bdd-abf7-b71de8b4edb3",
        "colab": {
          "base_uri": "https://localhost:8080/",
          "height": 71
        }
      },
      "source": [
        "# instantiate the model (using the default parameters)\n",
        "logreg = LogisticRegression()\n",
        "\n",
        "# fit the model with data\n",
        "logreg.fit(X_train,y_train)\n",
        "\n",
        "#\n",
        "y_pred=logreg.predict(X_test)"
      ],
      "execution_count": 0,
      "outputs": [
        {
          "output_type": "stream",
          "text": [
            "/usr/local/lib/python3.6/dist-packages/sklearn/linear_model/logistic.py:432: FutureWarning: Default solver will be changed to 'lbfgs' in 0.22. Specify a solver to silence this warning.\n",
            "  FutureWarning)\n"
          ],
          "name": "stderr"
        }
      ]
    },
    {
      "cell_type": "markdown",
      "metadata": {
        "id": "c3VhgGkpyGLn",
        "colab_type": "text"
      },
      "source": [
        "**Model Evaluation using Confusion Matrix**\n",
        "*A confusion matrix is a table that is used to evaluate the performance of a classification model. You can also visualize the performance of an algorithm. The fundamental of a confusion matrix is the number of correct and incorrect predictions are summed up class-wise.*"
      ]
    },
    {
      "cell_type": "code",
      "metadata": {
        "id": "DHjnYJkmyEr5",
        "colab_type": "code",
        "outputId": "f807a62d-b4c1-4748-fa08-12f9bb228995",
        "colab": {
          "base_uri": "https://localhost:8080/",
          "height": 51
        }
      },
      "source": [
        "# import the metrics class\n",
        "from sklearn import metrics\n",
        "cnf_matrix = metrics.confusion_matrix(y_test, y_pred)\n",
        "cnf_matrix"
      ],
      "execution_count": 0,
      "outputs": [
        {
          "output_type": "execute_result",
          "data": {
            "text/plain": [
              "array([[119,  11],\n",
              "       [ 26,  36]])"
            ]
          },
          "metadata": {
            "tags": []
          },
          "execution_count": 33
        }
      ]
    },
    {
      "cell_type": "markdown",
      "metadata": {
        "id": "_9Dgx4Hkygby",
        "colab_type": "text"
      },
      "source": [
        "Here, we can see the confusion matrix in the form of the array object.\n",
        "\n",
        "The dimension of this matrix is 2*2 because this model is binary classification. We can have two classes 0 and 1.\n",
        "\n",
        "Diagonal values represent accurate predictions,\n",
        "while non-diagonal elements are inaccurate predictions.\n",
        "\n",
        "In the output, 119 and 36 are actual predictions, and 26 and 11 are incorrect predictions."
      ]
    },
    {
      "cell_type": "code",
      "metadata": {
        "id": "mCA1ttIwyupL",
        "colab_type": "code",
        "outputId": "92c8ced7-087d-429e-fbdb-17846f7137e3",
        "colab": {
          "base_uri": "https://localhost:8080/",
          "height": 339
        }
      },
      "source": [
        "#visualize the confusion matrix using Heatmap.\n",
        "\n",
        "# import required modules\n",
        "import numpy as np\n",
        "import matplotlib.pyplot as plt\n",
        "import seaborn as sns\n",
        "%matplotlib inline\n",
        "\n",
        "class_names=[0,1] # name  of classes\n",
        "fig, ax = plt.subplots()\n",
        "tick_marks = np.arange(len(class_names))\n",
        "plt.xticks(tick_marks, class_names)\n",
        "plt.yticks(tick_marks, class_names)\n",
        "# create heatmap\n",
        "sns.heatmap(pd.DataFrame(cnf_matrix), annot=True, cmap=\"YlGnBu\" ,fmt='g')\n",
        "ax.xaxis.set_label_position(\"top\")\n",
        "plt.tight_layout()\n",
        "plt.title('Confusion matrix', y=1.1)\n",
        "plt.ylabel('Actual label')\n",
        "plt.xlabel('Predicted label')"
      ],
      "execution_count": 0,
      "outputs": [
        {
          "output_type": "execute_result",
          "data": {
            "text/plain": [
              "Text(0.5, 257.44, 'Predicted label')"
            ]
          },
          "metadata": {
            "tags": []
          },
          "execution_count": 34
        },
        {
          "output_type": "display_data",
          "data": {
            "image/png": "[encoded data removed]",
            "text/plain": [
              "<Figure size 432x288 with 2 Axes>"
            ]
          },
          "metadata": {
            "tags": []
          }
        }
      ]
    },
    {
      "cell_type": "code",
      "metadata": {
        "id": "Btg81FhX0I8X",
        "colab_type": "code",
        "outputId": "d816dfd4-eda4-4d83-8fb2-3c59cd945f0b",
        "colab": {
          "base_uri": "https://localhost:8080/",
          "height": 34
        }
      },
      "source": [
        "#evaluate the model using model evaluation metrics such as accuracy, precision, and recall.\n",
        "\n",
        "print(\"Accuracy:\",metrics.accuracy_score(y_test, y_pred))\n"
      ],
      "execution_count": 0,
      "outputs": [
        {
          "output_type": "stream",
          "text": [
            "Accuracy: 0.8072916666666666\n"
          ],
          "name": "stdout"
        }
      ]
    },
    {
      "cell_type": "code",
      "metadata": {
        "id": "0g4rMKULKGgE",
        "colab_type": "code",
        "colab": {}
      },
      "source": [
        "#y_predlist=y_pred.tolist() \n",
        "#y_predlist\n",
        "\n",
        "y_test = [ int(s) for s in y_test]\n",
        "\n",
        "y_pred = [ int(s) for s in y_pred]"
      ],
      "execution_count": 0,
      "outputs": []
    },
    {
      "cell_type": "code",
      "metadata": {
        "id": "XJKZ_sAD3uym",
        "colab_type": "code",
        "colab": {}
      },
      "source": [
        "#y_testarray=np.asarray(y_test)"
      ],
      "execution_count": 0,
      "outputs": []
    },
    {
      "cell_type": "code",
      "metadata": {
        "id": "x0RKombY2yK-",
        "colab_type": "code",
        "outputId": "d6d9efe4-13c3-4495-b1b7-91ea82c27c37",
        "colab": {
          "base_uri": "https://localhost:8080/",
          "height": 34
        }
      },
      "source": [
        "print(\"Precision:\",metrics.precision_score(y_test,y_pred))\n"
      ],
      "execution_count": 0,
      "outputs": [
        {
          "output_type": "stream",
          "text": [
            "Precision: 0.7659574468085106\n"
          ],
          "name": "stdout"
        }
      ]
    },
    {
      "cell_type": "code",
      "metadata": {
        "id": "s_jrKRbP20Q2",
        "colab_type": "code",
        "outputId": "0950a65b-d290-498b-fa8c-eeda1fc1f261",
        "colab": {
          "base_uri": "https://localhost:8080/",
          "height": 34
        }
      },
      "source": [
        "print(\"Recall:\",metrics.recall_score(y_test,y_pred))\n"
      ],
      "execution_count": 0,
      "outputs": [
        {
          "output_type": "stream",
          "text": [
            "Recall: 0.5806451612903226\n"
          ],
          "name": "stdout"
        }
      ]
    },
    {
      "cell_type": "code",
      "metadata": {
        "id": "i4iy5euY5XXd",
        "colab_type": "code",
        "outputId": "8a00279e-0e29-48b1-a367-68e129fd6cdf",
        "colab": {
          "base_uri": "https://localhost:8080/",
          "height": 286
        }
      },
      "source": [
        "#Receiver Operating Characteristic(ROC) curve is a plot of the true positive rate against the false positive rate. \n",
        "#It shows the tradeoff between sensitivity and specificity.\n",
        "\n",
        "y_pred_proba = logreg.predict_proba(X_test)[::,1]\n",
        "fpr, tpr, _ = metrics.roc_curve(y_test,  y_pred_proba)\n",
        "auc = metrics.roc_auc_score(y_test, y_pred_proba)\n",
        "plt.plot(fpr,tpr,label=\"data 1, auc=\"+str(auc))\n",
        "plt.legend(loc=4)\n",
        "plt.show"
      ],
      "execution_count": 0,
      "outputs": [
        {
          "output_type": "execute_result",
          "data": {
            "text/plain": [
              "<function matplotlib.pyplot.show>"
            ]
          },
          "metadata": {
            "tags": []
          },
          "execution_count": 40
        },
        {
          "output_type": "display_data",
          "data": {
            "image/png": "[encoded data removed]",
            "text/plain": [
              "<Figure size 432x288 with 1 Axes>"
            ]
          },
          "metadata": {
            "tags": []
          }
        }
      ]
    },
    {
      "cell_type": "markdown",
      "metadata": {
        "id": "9s5y-lz9_Jjy",
        "colab_type": "text"
      },
      "source": [
        "AUC score for the case is 0.86. AUC score 1 represents perfect classifier, and 0.5 represents a worthless classifier."
      ]
    },
    {
      "cell_type": "markdown",
      "metadata": {
        "id": "ZEsKH7a2sgaB",
        "colab_type": "text"
      },
      "source": [
        "Other model evalutions **Explained variance score**  (https://scikit-learn.org/stable/modules/model_evaluation.html)"
      ]
    },
    {
      "cell_type": "code",
      "metadata": {
        "id": "JxKQkeQ2tFyh",
        "colab_type": "code",
        "outputId": "e23cf0ed-fa82-4ab9-da9a-3af057db9d95",
        "colab": {
          "base_uri": "https://localhost:8080/",
          "height": 34
        }
      },
      "source": [
        " from sklearn.metrics import explained_variance_score\n",
        "explained_variance_score(y_test, y_pred)  \n",
        "\n",
        "#In statistics, explained variation measures the proportion to which a mathematical model accounts for the variation (dispersion) of a given data set. \n",
        "\n"
      ],
      "execution_count": 0,
      "outputs": [
        {
          "output_type": "execute_result",
          "data": {
            "text/plain": [
              "0.14652605459057078"
            ]
          },
          "metadata": {
            "tags": []
          },
          "execution_count": 41
        }
      ]
    },
    {
      "cell_type": "markdown",
      "metadata": {
        "id": "YlQNg1bWuBrF",
        "colab_type": "text"
      },
      "source": [
        "The best possible score is 1.0, lower values are worse."
      ]
    },
    {
      "cell_type": "code",
      "metadata": {
        "id": "AgWbhnbIuejH",
        "colab_type": "code",
        "outputId": "8992788c-79dd-4684-f3b0-13647743e1b2",
        "colab": {
          "base_uri": "https://localhost:8080/",
          "height": 34
        }
      },
      "source": [
        "#The max_error function computes the maximum residual error \n",
        "#a metric that captures the worst case error between the predicted value and the true value\n",
        "from sklearn.metrics import max_error\n",
        "max_error(y_test, y_pred)"
      ],
      "execution_count": 0,
      "outputs": [
        {
          "output_type": "execute_result",
          "data": {
            "text/plain": [
              "1"
            ]
          },
          "metadata": {
            "tags": []
          },
          "execution_count": 42
        }
      ]
    },
    {
      "cell_type": "markdown",
      "metadata": {
        "id": "r3fWgbsOu5z9",
        "colab_type": "text"
      },
      "source": [
        "In a perfectly fitted single output regression model, max_error would be 0 on the training set and though this would be highly unlikely in the real world, this metric shows the extent of error that the model had when it was fitted."
      ]
    },
    {
      "cell_type": "code",
      "metadata": {
        "id": "dZz3MO31vaC_",
        "colab_type": "code",
        "outputId": "f1d78b50-1f27-4cfd-ead5-ad1effd80c95",
        "colab": {
          "base_uri": "https://localhost:8080/",
          "height": 34
        }
      },
      "source": [
        "#The mean_absolute_error function computes mean absolute error,\n",
        "#a risk metric corresponding to the expected value of the absolute error loss or -norm loss.\n",
        "\n",
        "from sklearn.metrics import mean_absolute_error\n",
        "mean_absolute_error(y_test, y_pred)"
      ],
      "execution_count": 0,
      "outputs": [
        {
          "output_type": "execute_result",
          "data": {
            "text/plain": [
              "0.19270833333333334"
            ]
          },
          "metadata": {
            "tags": []
          },
          "execution_count": 43
        }
      ]
    },
    {
      "cell_type": "code",
      "metadata": {
        "id": "gkgpKWbpwbvC",
        "colab_type": "code",
        "colab": {}
      },
      "source": [
        "#The median_absolute_error is particularly interesting because it is robust to outliers.\n",
        "#The loss is calculated by taking the median of all absolute differences between the target and the prediction.\n",
        "\n",
        "from sklearn.metrics import median_absolute_error\n",
        "median_absolute_error(y_test, y_pred)"
      ],
      "execution_count": 0,
      "outputs": []
    },
    {
      "cell_type": "code",
      "metadata": {
        "id": "1lW9viw4xEfd",
        "colab_type": "code",
        "colab": {}
      },
      "source": [
        "\n"
      ],
      "execution_count": 0,
      "outputs": []
    }
  ]
}